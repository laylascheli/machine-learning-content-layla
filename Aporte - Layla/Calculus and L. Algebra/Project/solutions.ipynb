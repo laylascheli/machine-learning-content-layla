{
 "cells": [
  {
   "attachments": {},
   "cell_type": "markdown",
   "metadata": {},
   "source": [
    "A continuación se expresa una posible solución para el proyecto solicitado. \n",
    "\n",
    "**Importante**: Se demostrará una resolución para el caso de Rafa, luego se deberá replicar el ejercicio para Pedro y María. "
   ]
  },
  {
   "attachments": {},
   "cell_type": "markdown",
   "metadata": {},
   "source": [
    "Empecemos generando la matriz para Rafa de la Tienda: Manolo Bakes."
   ]
  },
  {
   "cell_type": "code",
   "execution_count": 7,
   "metadata": {},
   "outputs": [
    {
     "name": "stdout",
     "output_type": "stream",
     "text": [
      "[[ 6.   5.   3.   1. ]\n",
      " [ 1.5  2.   5.  16. ]]\n"
     ]
    }
   ],
   "source": [
    "import numpy as np\n",
    "\n",
    "matriz_rafa_manolo_bakes = np.array([[6, 5, 3,1], [1.50, 2, 5, 16]])\n",
    "\n",
    "print(matriz_rafa_manolo_bakes)"
   ]
  },
  {
   "attachments": {},
   "cell_type": "markdown",
   "metadata": {},
   "source": [
    "Accedamos a los elementos de la matriz:"
   ]
  },
  {
   "cell_type": "code",
   "execution_count": 8,
   "metadata": {},
   "outputs": [
    {
     "data": {
      "text/plain": [
       "6.0"
      ]
     },
     "execution_count": 8,
     "metadata": {},
     "output_type": "execute_result"
    }
   ],
   "source": [
    "matriz_rafa_manolo_bakes[0,0]"
   ]
  },
  {
   "cell_type": "code",
   "execution_count": 9,
   "metadata": {},
   "outputs": [
    {
     "data": {
      "text/plain": [
       "1.5"
      ]
     },
     "execution_count": 9,
     "metadata": {},
     "output_type": "execute_result"
    }
   ],
   "source": [
    "matriz_rafa_manolo_bakes[1,0]"
   ]
  },
  {
   "cell_type": "code",
   "execution_count": 10,
   "metadata": {},
   "outputs": [
    {
     "data": {
      "text/plain": [
       "5.0"
      ]
     },
     "execution_count": 10,
     "metadata": {},
     "output_type": "execute_result"
    }
   ],
   "source": [
    "matriz_rafa_manolo_bakes[0,1]"
   ]
  },
  {
   "cell_type": "code",
   "execution_count": 11,
   "metadata": {},
   "outputs": [
    {
     "data": {
      "text/plain": [
       "2.0"
      ]
     },
     "execution_count": 11,
     "metadata": {},
     "output_type": "execute_result"
    }
   ],
   "source": [
    "matriz_rafa_manolo_bakes[1,1]"
   ]
  },
  {
   "cell_type": "code",
   "execution_count": 12,
   "metadata": {},
   "outputs": [
    {
     "data": {
      "text/plain": [
       "3.0"
      ]
     },
     "execution_count": 12,
     "metadata": {},
     "output_type": "execute_result"
    }
   ],
   "source": [
    "matriz_rafa_manolo_bakes[0,2]"
   ]
  },
  {
   "cell_type": "code",
   "execution_count": 14,
   "metadata": {},
   "outputs": [
    {
     "data": {
      "text/plain": [
       "5.0"
      ]
     },
     "execution_count": 14,
     "metadata": {},
     "output_type": "execute_result"
    }
   ],
   "source": [
    "matriz_rafa_manolo_bakes[1,2]"
   ]
  },
  {
   "cell_type": "code",
   "execution_count": 15,
   "metadata": {},
   "outputs": [
    {
     "data": {
      "text/plain": [
       "1.0"
      ]
     },
     "execution_count": 15,
     "metadata": {},
     "output_type": "execute_result"
    }
   ],
   "source": [
    "matriz_rafa_manolo_bakes[0,3]"
   ]
  },
  {
   "cell_type": "code",
   "execution_count": 16,
   "metadata": {},
   "outputs": [
    {
     "data": {
      "text/plain": [
       "16.0"
      ]
     },
     "execution_count": 16,
     "metadata": {},
     "output_type": "execute_result"
    }
   ],
   "source": [
    "matriz_rafa_manolo_bakes[1,3]"
   ]
  },
  {
   "attachments": {},
   "cell_type": "markdown",
   "metadata": {},
   "source": [
    "Excelente, una vez que ya hemos verificado que todos los valores sean correctos, procederemos a calcular el valor total a pagar por Rafa\n",
    "en la tienda de Manolo Bakes. "
   ]
  },
  {
   "cell_type": "code",
   "execution_count": 18,
   "metadata": {},
   "outputs": [
    {
     "data": {
      "text/plain": [
       "50.0"
      ]
     },
     "execution_count": 18,
     "metadata": {},
     "output_type": "execute_result"
    }
   ],
   "source": [
    "total_rafa_manolo_bakes = (matriz_rafa_manolo_bakes[0,0] * matriz_rafa_manolo_bakes[1,0]) + (matriz_rafa_manolo_bakes[0,1] * matriz_rafa_manolo_bakes[1,1]) + (matriz_rafa_manolo_bakes[0,2] * matriz_rafa_manolo_bakes[1,2]) + (matriz_rafa_manolo_bakes[0,3] * matriz_rafa_manolo_bakes[1,3])\n",
    "\n",
    "total_rafa_manolo_bakes"
   ]
  },
  {
   "attachments": {},
   "cell_type": "markdown",
   "metadata": {},
   "source": [
    "De la misma forma que planteamos, la matriz para la tienda de Manolo, ahora lo realizaremos para Starbucks: "
   ]
  },
  {
   "cell_type": "code",
   "execution_count": 20,
   "metadata": {},
   "outputs": [
    {
     "name": "stdout",
     "output_type": "stream",
     "text": [
      "[[ 6.   5.   3.   1. ]\n",
      " [ 1.   2.5  4.5 17. ]]\n"
     ]
    }
   ],
   "source": [
    "matriz_rafa_starbucks = np.array([[6, 5, 3,1], [1, 2.50, 4.50, 17]])\n",
    "\n",
    "print(matriz_rafa_starbucks)"
   ]
  },
  {
   "attachments": {},
   "cell_type": "markdown",
   "metadata": {},
   "source": [
    "Calculemos ahora el total para dicha tienda: "
   ]
  },
  {
   "cell_type": "code",
   "execution_count": 22,
   "metadata": {},
   "outputs": [
    {
     "data": {
      "text/plain": [
       "49.0"
      ]
     },
     "execution_count": 22,
     "metadata": {},
     "output_type": "execute_result"
    }
   ],
   "source": [
    "total_rafa_starbucks = (matriz_rafa_starbucks[0,0] * matriz_rafa_starbucks[1,0]) + (matriz_rafa_starbucks[0,1] * matriz_rafa_starbucks[1,1]) + (matriz_rafa_starbucks[0,2] * matriz_rafa_starbucks[1,2]) + (matriz_rafa_starbucks[0,3] * matriz_rafa_starbucks[1,3])\n",
    "total_rafa_starbucks"
   ]
  },
  {
   "attachments": {},
   "cell_type": "markdown",
   "metadata": {},
   "source": [
    "Entonces! tenemos que en Manolo, Rafa gasta 50 USD y en Starbucks, 49 USD. Por lo tanto, la recomendación para Rafa, sería que\n",
    "compre sus productos en la tienda de Starbucks, donde tiene un ahorro de 1 USD. "
   ]
  },
  {
   "cell_type": "code",
   "execution_count": null,
   "metadata": {},
   "outputs": [],
   "source": [
    "#REPLICAR PARA PEDRO Y PARA MARIA :)"
   ]
  }
 ],
 "metadata": {
  "kernelspec": {
   "display_name": "Python 3",
   "language": "python",
   "name": "python3"
  },
  "language_info": {
   "codemirror_mode": {
    "name": "ipython",
    "version": 3
   },
   "file_extension": ".py",
   "mimetype": "text/x-python",
   "name": "python",
   "nbconvert_exporter": "python",
   "pygments_lexer": "ipython3",
   "version": "3.11.3"
  },
  "orig_nbformat": 4
 },
 "nbformat": 4,
 "nbformat_minor": 2
}
