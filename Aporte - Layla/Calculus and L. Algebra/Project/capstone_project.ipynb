{
 "cells": [
  {
   "attachments": {},
   "cell_type": "markdown",
   "metadata": {},
   "source": [
    "Rafa, Pedro y María quieren comprar palmeras, donuts, hojaldres y tartas. Cada uno necesita diferentes cantidades y pueden elegir dos tiendas: Manolo Bakes y Starbucks. \n",
    "\n",
    "Las siguiente tablas muestran, respectivamente, la cantidad que cada uno necesita, y los precios en cada una de las tiendas:\n",
    "\n",
    "![image10.png](/workspaces/machine-learning-content/assets/layla_media/image10.png)"
   ]
  },
  {
   "attachments": {},
   "cell_type": "markdown",
   "metadata": {},
   "source": [
    "Por ejemplo, si Rafa compra en Manolo Bakes gastaría:\n",
    "\n",
    "6⋅1.50+5⋅2+3⋅5+1⋅16=50\n",
    "\n",
    "y si compra en Starbucks gastaría:\n",
    "\n",
    "6⋅1+5⋅2.50+3⋅4.50+1⋅17=49"
   ]
  },
  {
   "attachments": {},
   "cell_type": "markdown",
   "metadata": {},
   "source": [
    "**Consigna**: Generar la matriz que exprese la cantidad que cada persona gastaría en cada tienda, y recomienda a cada uno dónde debería hacer sus compras. \n",
    "\n",
    "Importante: Si bien, esta actividad podría realizarse manualmente, se solicita el uso de Python con la librería de Numpy. "
   ]
  }
 ],
 "metadata": {
  "language_info": {
   "name": "python"
  },
  "orig_nbformat": 4
 },
 "nbformat": 4,
 "nbformat_minor": 2
}
