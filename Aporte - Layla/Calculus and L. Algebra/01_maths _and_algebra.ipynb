{
 "cells": [
  {
   "attachments": {},
   "cell_type": "markdown",
   "metadata": {},
   "source": [
    "### Para empezar!"
   ]
  },
  {
   "attachments": {},
   "cell_type": "markdown",
   "metadata": {},
   "source": [
    "Preparemos un notebook vacío para realizar nuestras practicas: "
   ]
  },
  {
   "cell_type": "code",
   "execution_count": 7,
   "metadata": {},
   "outputs": [],
   "source": [
    "import numpy as np\n",
    "import pandas as pd\n",
    "import matplotlib.pyplot as plt"
   ]
  },
  {
   "attachments": {},
   "cell_type": "markdown",
   "metadata": {},
   "source": [
    "\n",
    "### El Álgebra y las Matemáticas"
   ]
  },
  {
   "attachments": {},
   "cell_type": "markdown",
   "metadata": {},
   "source": [
    "El álgebra es una rama de las matemáticas que trata con símbolos (o variables) como las famosas \"x e y\", y se apoya de diferentes reglas para manipular esos símbolos y elaborar distintas operaciones aritméticas elementales. "
   ]
  },
  {
   "attachments": {},
   "cell_type": "markdown",
   "metadata": {},
   "source": [
    "¡Como bien sabemos, las matemáticas se basan en el uso de fórmulas básicas que sin dudas todos alguna vez hemos tenido que estudiar! El objetivo de esta sección de nuestro bootcamp, es ofrecer los conceptos fundamentales a comprender del uso de las matemáticas para la Ciencia de Datos. En la sección de recursos complementarios, podrás leer más material acerca del concepto de integrales y derivadas.\n",
    "\n",
    "¡Excelente, habiendo ya realizado estos comentarios! Recordemos la fórmula de ecuación básica:\n",
    "\n",
    "![image1.jpg](/workspaces/machine-learning-content/assets/layla_media/image1.png)   "
   ]
  },
  {
   "attachments": {},
   "cell_type": "markdown",
   "metadata": {},
   "source": [
    "Interpretación:\n",
    "\n",
    "1. Exponente (potencia)\n",
    "2. Coeficiente\n",
    "3. Término\n",
    "4. Operador\n",
    "5. constante\n",
    "\n",
    "Donde: x e y son las variables."
   ]
  },
  {
   "attachments": {},
   "cell_type": "markdown",
   "metadata": {},
   "source": [
    "### Funciones\n"
   ]
  },
  {
   "attachments": {},
   "cell_type": "markdown",
   "metadata": {},
   "source": [
    "Un concepto fundamental a comprender, es el uso de funciones en el ámbito de las matemáticas. Una función es una relación entre conjuntos que asocia cada elemento del primer conjunto a exactamente un elemento del\n",
    "segundo conjunto."
   ]
  },
  {
   "attachments": {},
   "cell_type": "markdown",
   "metadata": {},
   "source": [
    "Por ejemplo: \n",
    "\n",
    "![image2.jpg](/workspaces/machine-learning-content/assets/layla_media/image2.png)\n",
    "\n"
   ]
  },
  {
   "attachments": {},
   "cell_type": "markdown",
   "metadata": {},
   "source": [
    "En Python, implementaríamos esta función con un parámetro (int), devolviendo un valor (int). Claramente también utilizamos la palabra \"def\", para realizar su definición:"
   ]
  },
  {
   "cell_type": "code",
   "execution_count": 1,
   "metadata": {},
   "outputs": [],
   "source": [
    "def square_plus_one(x):\n",
    " return x * x + 1"
   ]
  },
  {
   "attachments": {},
   "cell_type": "markdown",
   "metadata": {},
   "source": [
    "### Funciones multivariantes"
   ]
  },
  {
   "attachments": {},
   "cell_type": "markdown",
   "metadata": {},
   "source": [
    "Una función puede ser definida por más de dos variables, como por ejemplo:\n",
    "\n",
    "![image3.jpg](/workspaces/machine-learning-content/assets/layla_media/image3.png)"
   ]
  },
  {
   "attachments": {},
   "cell_type": "markdown",
   "metadata": {},
   "source": [
    "Lo cual podemos traducir a Python, utilizando la siguiente sintaxis: "
   ]
  },
  {
   "cell_type": "code",
   "execution_count": 3,
   "metadata": {},
   "outputs": [],
   "source": [
    "def multi_variate(x0, x1):\n",
    " y = 2 * x0 + 3 * x1 + 7\n",
    " return y"
   ]
  },
  {
   "attachments": {},
   "cell_type": "markdown",
   "metadata": {},
   "source": [
    "Por supuesto que también podemos graficar diferentes funciones, utilizando la librería de Matplotlib o Seaborn. Este concepto, justamente lo abordaremos en la siguiente lectura del módulo. "
   ]
  },
  {
   "attachments": {},
   "cell_type": "markdown",
   "metadata": {},
   "source": [
    "### Álgebra Lineal\n",
    "\n",
    "Se entiende por álgebra lineal a la rama del álgebra que se encarga del estudio de matrices, vectores, espacios vectoriales y ecuaciones de tipo lineal. Se trata de funciones matemáticas que ocurren entre vectores dentro de condiciones de linealidad, es decir, la serie de sucesiones que son consecuencia proporcional de una causa.  \n",
    "\n",
    "Este tipo de álgebra es un área fundamental dentro de las matemáticas, en especial en el campo de la geometría, pues permite definir objetos como líneas, planos o rotaciones. También es indispensable en el campo de la ingeniería, pues facilita el cálculo, modelación y computación de fenómenos naturales."
   ]
  },
  {
   "attachments": {},
   "cell_type": "markdown",
   "metadata": {},
   "source": [
    "¿Cuáles son los elementos del álgebra lineal?\n",
    "\n",
    "En una ecuación de álgebra lineal, cuya representación gráfica es una línea recta, existen una serie de elementos que se deben tomar en cuenta para su resolución:\n",
    "\n",
    "* **Vectores**: trazos rectos que indican una dirección definida y que están proyectados en un determinado espacio. Son líneas con punto de origen, magnitud, dirección, sentido y longitud. Tienen una representación gráfica rectilínea.  \n",
    "* **Escaladores**: elementos que se usan para describir un fenómeno con magnitud pero sin dirección. Pueden ser un número real, complejo o constante.\n",
    "* **Raíz**: cantidad multiplicada por sí misma tantas veces como sea necesario para obtener otra cantidad como resultado. El objetivo de la raíz es conseguir la base de la potencia conociendo el exponente y la cantidad subradical. \n",
    "* **Matriz**: conjunto bidimensional de números dispuestos en filas y columnas que permiten la representación de coeficientes presentes en sistemas de ecuaciones lineales.\n",
    "* **Determinante**: es la expresión matemática que resulta de la aplicación de los elementos que forman parte de una matriz cuadrada. "
   ]
  },
  {
   "attachments": {},
   "cell_type": "markdown",
   "metadata": {},
   "source": [
    "¿Cuáles son las características principales del álgebra lineal?\n",
    "\n",
    "* Estudia los espacios vectoriales, es decir, las estructuras matemáticas en las que se puede sumar entre diferentes elementos (conocidos como vectores) de un conjunto y multiplicarlos por números reales o complejos.\n",
    "* Se basa en sistemas de ecuaciones lineales, con elementos constantes (números) e información desconocida y que se representa sin exponentes.\n",
    "* Se vale de letras y símbolos para sustituir números en operaciones aritméticas; a estos se les conoce como variables.\n",
    "* Se le atribuye el adjetivo lineal porque la ecuación representa una línea recta en el plano cartesiano. \n",
    "* Permite resolver problemas a través de herramientas lógicas y matemáticas, que se pueden aplicar a distintas ciencias y ramas de estudios, pero también para situaciones del día a día."
   ]
  },
  {
   "cell_type": "code",
   "execution_count": 12,
   "metadata": {},
   "outputs": [],
   "source": [
    "### texto extraido del notebook original --- quitar luego "
   ]
  },
  {
   "attachments": {},
   "cell_type": "markdown",
   "metadata": {},
   "source": [
    "Applications of Linear Algebra in the Machine Learning process.\n",
    "\n",
    "Linear Algebra is applicable in predictions, signal analysis, facial recognition, etc.\n",
    "\n",
    "Some applications:\n",
    "\n",
    "-\tData in a dataset is vectorized. Rows are inserted into a model one at a time for easier and authentic calculations.\n",
    "\n",
    "-\tAll images are tabular in structure. It forms a matrix in Linear Algebra. Image editing techniques such as cropping and scaling use algebraic operations.\n",
    "\n",
    "-\tRegularization is a method that minimizes the size of coefficients while inserting it into data.\n",
    "\n",
    "-\tDeep learning work with vectors, matrices, and even tensors as it requires linear data structures added and multiplied together.\n",
    "\n",
    "-\tThe ‘One hot encoding’ method encodes categories for easier algebra operations.\n",
    "\n",
    "-\tIn linear regression, linear algebra is used to describe the relationship among variables.\n",
    "\n",
    "-\tWhen we find irrelevant data, we normally remove redundant columns, so PCA acts with matrix factorization.\n",
    "\n",
    "-\tWith the help of linear algebra, recommender systems can have more purified data."
   ]
  },
  {
   "attachments": {},
   "cell_type": "markdown",
   "metadata": {},
   "source": [
    "A continuación, comentaremos acerca de los conceptos de Vectores y Matrices asociados al Álgebra Lineal. "
   ]
  },
  {
   "cell_type": "code",
   "execution_count": 11,
   "metadata": {},
   "outputs": [],
   "source": [
    "##aca va un bloque que tenemos de Linear Algebra del notebook original! -----> esto quitar luego!"
   ]
  },
  {
   "attachments": {},
   "cell_type": "markdown",
   "metadata": {},
   "source": [
    "### Vectors\n",
    "\n",
    "Given that scalars exist to represent values why are vectors necessary? One of the primary use cases for vectors is to represent physical quantities that have both a magnitude and a direction. Scalars are only capable of representing magnitudes.\n",
    "For instance, scalars and vectors encode the difference between the speed of a car and its velocity. The velocity contains not only its speed but also its direction of travel. \n",
    "In machine learning vectors often represent feature vectors, with their individual components specifying how important a particular feature is. Such features could include relative importance of words in a text document, the intensity of a set of pixels in a two-dimensional image, or historical price values for a cross-section of financial instruments.\n",
    "\n",
    "**Scalar operations**\n",
    "\n",
    "Scalar operations involve a vector and a number: \n",
    "\n",
    "![linear_algebra_scalar_operations.png](https://github.com/4GeeksAcademy/machine-learning-content/blob/master/assets/linear_algebra_scalar_operations.png?raw=true)"
   ]
  },
  {
   "attachments": {},
   "cell_type": "markdown",
   "metadata": {},
   "source": [
    "**Vector multiplication**\n",
    "\n",
    "There are two types of vector multiplication: Dot product and Hadamard product.\n",
    "The dot product of two vectors is a scalar. Dot product of vectors and matrices (matrix multiplication) is one of the most important operations in deep learning."
   ]
  },
  {
   "attachments": {},
   "cell_type": "markdown",
   "metadata": {},
   "source": [
    "![linear_algebra_dot_product.png](https://github.com/4GeeksAcademy/machine-learning-content/blob/master/assets/linear_algebra_dot_product.png?raw=true)"
   ]
  },
  {
   "attachments": {},
   "cell_type": "markdown",
   "metadata": {},
   "source": [
    "Hadamard Product is elementwise multiplication, and it outputs a vector."
   ]
  },
  {
   "attachments": {},
   "cell_type": "markdown",
   "metadata": {},
   "source": [
    "![linear_algebra_hadamard_product.png](https://github.com/4GeeksAcademy/machine-learning-content/blob/master/assets/linear_algebra_hadamard_product.png?raw=true)"
   ]
  },
  {
   "attachments": {},
   "cell_type": "markdown",
   "metadata": {},
   "source": [
    "### Matrices\n",
    "\n",
    "\n",
    "A matrix is a rectangular grid of numbers or terms (like an Excel spreadsheet) with special rules for addition, subtraction, and multiplication.\n",
    "Matrix dimensions: We describe the dimensions of a matrix in terms of rows by columns.\n",
    "\n",
    "**Matrix scalar operations**\n",
    "\n",
    "Scalar operations with matrices work the same way as they do for vectors. \n",
    "Simply apply the scalar to every element in the matrix — add, subtract, divide, multiply, etc.\n",
    "\n",
    "![matrix_scalar_operations.png](https://github.com/4GeeksAcademy/machine-learning-content/blob/master/assets/matrix_scalar_operations.png?raw=true)\n",
    "\n",
    "**Matrix elementwise operations**\n",
    "\n",
    "To add, subtract, or divide two matrices they must have equal dimensions. \n",
    "We combine corresponding values in an elementwise fashion to produce a new matrix.\n",
    "\n",
    "![matrix_elementwise_operations.png](https://github.com/4GeeksAcademy/machine-learning-content/blob/master/assets/matrix_elementwise_operations.png?raw=true)"
   ]
  },
  {
   "attachments": {},
   "cell_type": "markdown",
   "metadata": {},
   "source": [
    "**Matrix multiplication**\n",
    "\n",
    "Hadamard product of matrices is an elementwise operation. \n",
    "Values that correspond positionally are multiplied to produce a new matrix."
   ]
  },
  {
   "attachments": {},
   "cell_type": "markdown",
   "metadata": {},
   "source": [
    "![matrix_hadamard_operations.png](https://github.com/4GeeksAcademy/machine-learning-content/blob/master/assets/matrix_hadamard_operations.png?raw=true)"
   ]
  },
  {
   "attachments": {},
   "cell_type": "markdown",
   "metadata": {},
   "source": [
    "*Rules*\n",
    "\n",
    "The number of columns of the 1st matrix must equal the number of rows of the 2nd \n",
    "The product of an M x N matrix and an N x K matrix is an M x K matrix. \n",
    "The new matrix takes the rows of the 1st and columns of the 2nd\n",
    "\n",
    "**Matrix transpose**\n",
    "\n",
    "Matrix transpose provides a way to “rotate” one of the matrices so that the operation complies with multiplication requirements and can continue. \n",
    "There are two steps to transpose a matrix: \n",
    "\n",
    "1. Rotate the matrix right 90° \n",
    "2. Reverse the order of elements in each row (e.g. $[a b c]$ becomes $[c b a]$)\n",
    "\n",
    "Numpy uses the function np.dot $(A,B)$ for both vector and matrix multiplication."
   ]
  },
  {
   "attachments": {},
   "cell_type": "markdown",
   "metadata": {},
   "source": [
    "**Addition**\n",
    "\n",
    "Matrices can be added iif (if and only if) they have the same shape.\n",
    "\n",
    "A + B = C looping over each i (row index) and j (column index): ![image8.png](/workspaces/machine-learning-content/assets/layla_media/image8.png)"
   ]
  },
  {
   "attachments": {},
   "cell_type": "markdown",
   "metadata": {},
   "source": [
    "![image9.png](/workspaces/machine-learning-content/assets/layla_media/image9.png)"
   ]
  },
  {
   "attachments": {},
   "cell_type": "markdown",
   "metadata": {},
   "source": [
    "**Addition - Example**: "
   ]
  },
  {
   "cell_type": "code",
   "execution_count": 9,
   "metadata": {},
   "outputs": [],
   "source": [
    "A = np.array([[1, 2], [3, 4], [5, 6]])\n",
    "B = np.array([[1, 4], [2, 5], [2, 3]])"
   ]
  },
  {
   "cell_type": "code",
   "execution_count": 10,
   "metadata": {},
   "outputs": [
    {
     "data": {
      "text/plain": [
       "array([[2, 6],\n",
       "       [5, 9],\n",
       "       [7, 9]])"
      ]
     },
     "execution_count": 10,
     "metadata": {},
     "output_type": "execute_result"
    }
   ],
   "source": [
    "C = A + B\n",
    "C"
   ]
  },
  {
   "attachments": {},
   "cell_type": "markdown",
   "metadata": {},
   "source": [
    "### Álgebra no Lineal"
   ]
  },
  {
   "attachments": {},
   "cell_type": "markdown",
   "metadata": {},
   "source": [
    "Hasta ahora solo hemos cubierto funciones lineales, definidas por ecuaciones que están representadas en una\n",
    "figura en línea recta.\n",
    "\n",
    "Ahora bien, un ejemplo de función no lineal es la función coseno: \n",
    "\n",
    "                                                        y = cos(x)\n"
   ]
  },
  {
   "cell_type": "code",
   "execution_count": 8,
   "metadata": {},
   "outputs": [
    {
     "data": {
      "image/png": "[encoded data removed]",
      "text/plain": [
       "<Figure size 640x480 with 1 Axes>"
      ]
     },
     "metadata": {},
     "output_type": "display_data"
    }
   ],
   "source": [
    "x = np.arange(0, 4 * np.pi, 0.1)\n",
    "y = np.cos(x)\n",
    "plt.plot(x, y)\n",
    "plt.xlabel('x')\n",
    "plt.ylabel('$\\cos(x)$')\n",
    "plt.show()"
   ]
  },
  {
   "attachments": {},
   "cell_type": "markdown",
   "metadata": {},
   "source": [
    "Si te gustaría leer más acerca del Álgebra no Lineal, puedes apoyarte en el siguiente link: \n",
    "\n",
    "https://economipedia.com/definiciones/funcion-no-lineal.html"
   ]
  },
  {
   "attachments": {},
   "cell_type": "markdown",
   "metadata": {},
   "source": [
    "### Sistema de ecuaciones lineales\n",
    "\n",
    "Un sistema de ecuaciones lineales (o sistema lineal) es una colección de una o más ecuaciones lineales que involucran el\n",
    "mismo conjunto de variables.\n",
    "\n",
    "![image7.jpg](/workspaces/machine-learning-content/assets/layla_media/image7.png)"
   ]
  },
  {
   "attachments": {},
   "cell_type": "markdown",
   "metadata": {},
   "source": [
    "\n",
    "Una solución a un sistema lineal es una asignación de valores a las variables tal que todas las ecuaciones sean\n",
    "simultáneamente satisfecho. Por ejemplo:"
   ]
  },
  {
   "attachments": {},
   "cell_type": "markdown",
   "metadata": {},
   "source": [
    "                                                    x = 1\n",
    "                                                    y = −2\n",
    "                                                    z = −2"
   ]
  },
  {
   "attachments": {},
   "cell_type": "markdown",
   "metadata": {},
   "source": [
    "Por último, en la siguiente sección de nuestro notebook conoceremos otras funciones importantes matemáticas.  "
   ]
  },
  {
   "attachments": {},
   "cell_type": "markdown",
   "metadata": {},
   "source": [
    "### Función de Identidad"
   ]
  },
  {
   "attachments": {},
   "cell_type": "markdown",
   "metadata": {},
   "source": [
    "Una función identidad es una función tal que la imagen de cualquier elemento es éste mismo:\n",
    "\n",
    "                                    f(x) = x\n",
    "\n",
    "Expresión de una función identidad:\n",
    "\n",
    "![image4.png](/workspaces/machine-learning-content/assets/layla_media/image4.png)"
   ]
  },
  {
   "attachments": {},
   "cell_type": "markdown",
   "metadata": {},
   "source": [
    "La identidad es una función lineal de pendiente m = 1 que pasa por el origen de coordenadas, es decir, por el punto (0,0). A su vez, siempre divide el primer y el tercer cuadrante en partes iguales, o sea, es su bisectriz.\n",
    "\n",
    "La pendiente es la inclinación con respecto al eje X (eje de abscisas). Al ser ésta positiva (m > 0), la función es creciente.\n",
    "\n",
    "Ahora bien, que la pendiente de la función identidad sea m = 1 significa que si aumentamos la x en una unidad, la y también aumenta en una unidad.\n",
    "\n",
    "Finalmente, formará un ángulo de 45° con cualquiera de los ejes."
   ]
  },
  {
   "attachments": {},
   "cell_type": "markdown",
   "metadata": {},
   "source": [
    "### Función Inversa"
   ]
  },
  {
   "attachments": {},
   "cell_type": "markdown",
   "metadata": {},
   "source": [
    "Se llama función inversa o recíproca de una función f a una nueva función cuyo dominio es la imagen de la función inicial, y su imagen es el dominio de la función inicial.\n",
    "\n",
    "![image5.jpg](/workspaces/machine-learning-content/assets/layla_media/image5.png)"
   ]
  },
  {
   "attachments": {},
   "cell_type": "markdown",
   "metadata": {},
   "source": [
    "Es decir, si la función g es la función inversa de f, entonces se cumple que si f (b) = a, entonces g(a)=b."
   ]
  },
  {
   "attachments": {},
   "cell_type": "markdown",
   "metadata": {},
   "source": [
    "**Gráfica de una función inversa** : \n",
    "\n",
    "La gráfica de una función f, y la de su inversa g, son simétricas respecto a la bisectriz del primer y tercer cuadrante, es decir la recta y = x, como podemos ver en la siguiente imagen:\n",
    "\n",
    "![image6.png](/workspaces/machine-learning-content/assets/layla_media/image6.png)"
   ]
  },
  {
   "attachments": {},
   "cell_type": "markdown",
   "metadata": {},
   "source": [
    "### Resumen\n",
    "\n",
    "En éste primer notebook, hemos abordamos los fundamentos elementales del uso de las matemáticas para la Ciencia de Datos. Entendimos los principios del álgebra lineal y no lineal. También abordamos el conceptos de los sistemas de ecuaciones junto con otras funciones importantes en el ámbito de las matemáticas como ser, la función inversa o identidad. "
   ]
  },
  {
   "attachments": {},
   "cell_type": "markdown",
   "metadata": {},
   "source": [
    "### Para saber más: \n",
    "\n",
    "https://www.educba.com/linear-algebra-in-machine-learning/\n",
    "\n",
    "https://en.wikipedia.org/wiki/Linear_algebra\n",
    "\n",
    "https://www.quantstart.com/articles/scalars-vectors-matrices-and-tensors-linear-algebra-for-deep-learning-part-1/#:~:text=Vectors%20and%20Matrices%20The%20two%20primary%20mathematical%20entities,a%20more%20general%20entity%20known%20as%20a%20tensor.\n",
    "\n",
    "https://github.com/markkm/math-for-ml\n",
    "\n",
    "https://towardsdatascience.com/linear-algebra-cheat-sheet-for-deep-learning-cd67aba4526c"
   ]
  }
 ],
 "metadata": {
  "kernelspec": {
   "display_name": "Python 3",
   "language": "python",
   "name": "python3"
  },
  "language_info": {
   "codemirror_mode": {
    "name": "ipython",
    "version": 3
   },
   "file_extension": ".py",
   "mimetype": "text/x-python",
   "name": "python",
   "nbconvert_exporter": "python",
   "pygments_lexer": "ipython3",
   "version": "3.10.4"
  },
  "orig_nbformat": 4
 },
 "nbformat": 4,
 "nbformat_minor": 2
}
