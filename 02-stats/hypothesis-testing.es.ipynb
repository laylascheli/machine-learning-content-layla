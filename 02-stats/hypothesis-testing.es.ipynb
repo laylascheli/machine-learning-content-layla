{
    "cells": [
        {
            "cell_type": "markdown",
            "id": "190a7d3f",
            "metadata": {},
            "source": [
                "# HYPOTHESIS TESTING"
            ]
        },
        {
            "cell_type": "markdown",
            "id": "0fbc588e",
            "metadata": {},
            "source": [
                "### Curvas de densidad"
            ]
        },
        {
            "cell_type": "markdown",
            "id": "5432a0c4",
            "metadata": {},
            "source": [
                "Tener histogramas de frecuencia es una buena manera de ver cómo se distribuyen nuestros datos. En en algún momento, podríamos querer ver qué porcentaje de nuestros datos cae en cada una de las categorías de la variable. En ese caso podemos construir un histograma de frecuencias relativas, que nos mostrará los porcentajes en lugar de las cantidades. Mientras haya mayor cantidad datos, más conveniente serán los contenedores pequeños en nuestro histograma para poder ver la distribución mucho más clara.\n",
                "\n",
                "A medida que tengamos más y más datos, tal vez queramos ver contenedores aún más delgados que nos lleven a un punto en el que nos acerquemos a un número infinito de categorías y la mejor manera de verlo sería conectar la parte superior del barras que realmente obtendrá una curva. Esto se llama la curva de densidad."
            ]
        },
        {
            "attachments": {},
            "cell_type": "markdown",
            "id": "0b133a83",
            "metadata": {},
            "source": [
                "![density_curve.jpg](../assets/density_curve.jpg)"
            ]
        },
        {
            "cell_type": "markdown",
            "id": "be2f9b08",
            "metadata": {},
            "source": [
                "**Probabilidad de la curva de densidad:**\n",
                "\n",
                "Veamos un ejemplo de cómo calcular probabilidades a partir de curvas de densidad:\n",
                "\n",
                "Tenemos un conjunto de datos con la altura de varias mujeres que normalmente van distribuídas con la media de 155cm y una desviación estándar de 15cm. La atura de una mujer aleatoriamente seleccionada de este conjunto será denotada como $W$.\n",
                "\n",
                "Encuentra e interpreta $P(W > 170)$"
            ]
        },
        {
            "attachments": {},
            "cell_type": "markdown",
            "id": "624d53dc",
            "metadata": {},
            "source": [
                "![density_probability_problem.jpg](https://github.com/4GeeksAcademy/machine-learning-content/blob/master/assets/density_probability_problem.jpg?raw=true)"
            ]
        },
        {
            "cell_type": "markdown",
            "id": "24d349f3",
            "metadata": {},
            "source": [
                "### Teorema del límite central"
            ]
        },
        {
            "cell_type": "markdown",
            "id": "34485f25",
            "metadata": {},
            "source": [
                "Cuando dibujamos muestras de variables independientes aleatorias (extraído de cualquier distribución individual con una varianza finita), su muestra media tiende hacia la media de la población y su distribución se aproxima a una distribución normal a medida que aumenta el tamaño de la muestra, independientemente de la distribución de la que se extrajeron las variables aleatorias. Su varianza se acercará a la varianza de la población dividida por el tamaño de la muestra.\n",
                "\n",
                "\n",
                "El teorema del límite central describe la forma de la distribución de medias muestrales como una distribución Gaussian o una distibución normal.\n",
                "\n",
                "El teorma establece que a medida que el tamaño de la muestra aumenta, la distribución de la media entre múltiples muestras se aproximará a la distribución de Gaussian\n",
                "\n",
                "El límite central del teorema no establece nada sobre una media de muestra única, en cambio, establece algo sobre la forma o la distribución de las medias muestrales.\n",
                "\n",
                "Por ejemplo, digamos que tenemos un dado de 6 caras justo y balanceado. El resultado de tirar el dado tiene una distribución uniforme en $[1,2,3,4,5,6]$. El resultado promedio de una tirada de dado es $(1+2+3+4+5+6)/6 = 3.5$\n",
                "\n",
                "Si tiramos el dado $10$ veces y promediamos los valores, entonces el parámetro resultante va a tener una distribución que comienza a verse similar a una distribución normal, nuevamente centrado en $3.5$.\n",
                "\n",
                "Si tiramos el dado $100$ veces y promediamos los valores, entonces el parámetro resultante va a tener una distribución que se comporta aún mas similar a una distribución normal, nuevamente centrado en $3.5$, pero ahora con una varianza reducida."
            ]
        },
        {
            "attachments": {},
            "cell_type": "markdown",
            "id": "4a322c9a",
            "metadata": {},
            "source": [
                "![central_limit_theorem.jpg](https://github.com/4GeeksAcademy/machine-learning-content/blob/master/assets/central_limit_theorem.jpg?raw=true)"
            ]
        },
        {
            "cell_type": "markdown",
            "id": "7d9fb28c",
            "metadata": {},
            "source": [
                "### Métodos de muestreo"
            ]
        },
        {
            "cell_type": "markdown",
            "id": "68bcf37f",
            "metadata": {},
            "source": [
                "Vamos a imaginar que tenemos una pobación de estudiantes. Para esa población podemos calcular los parámetros. Por ejemplo, la edad media o la desviación estándar de las calificaciones. Estos son los valores de toda la población. Algunas veces podremos no saber los parámetros de la población, así que la manera de estimar ese parámetro es tomando una muestra.\n",
                "\n",
                "El método de muestreo es el proceso de estudiar la población recopilando información y analizando esos datos. Se refiere a cómo los miembros de esa población son seleccionados para el estudio.\n",
                "\n",
                "**Muestreo no representativo:**\n",
                "\n",
                "El método de muestreo no representativo es una técnica en la cual el investigador selecciona la muestra basándose en un juicio subjetivo en lugar de la selección aleatoria. No todos los miembros de la población tienen un chance de participar en el estudio. \n",
                "\n",
                "-Muestreo por conveniencia = Elige muestras que sean más convenientes, como personas a las que se pueda acercar fácilmente.\n",
                "\n",
                "-Muestreo Consecutivo = Elige una sola persona o grupo para para muestreo. Luego el investigador investiga por un período de tiempo para analizar el resultado y avazar a otro grupo si se es necesario.\n",
                "\n",
                "-Muestreo intencional = Elige muestras para un propósito específico. Un ejemplo es centrarse en casos extremos. Esto puede ser útil pero es limitado porque no te permite hacer afirmaciones sobre toda la población.\n",
                "\n",
                "-Muestreo de bola de nieve = En este método, las muestras tienen características que son difíciles de encontrar. Entonces, a cada miembro identificado de la población se le pide encontrar las demás unidades de muestreo. Esas unidades de muestreo también pertenecen a la misma población objetivo.\n",
                "\n",
                "**Muestreo representativo:**\n",
                "\n",
                "-Muestreo aleatorio simple = Elige muestras (psuedo) aleatorias. Cada artículo en la población tiene una probabilidad igual y probable de ser seleccionado en la muestra.\n",
                "\n",
                "-Muestreo Sistemático = Elige muestras con un intervalo fijo. Por ejemplo, cada décima muestra  $(0, 10, 20, etc.)$. Es calculado dividiendo el total del tamaño de la población entre el tamaño de la población deseada.\n",
                "\n",
                "-Muestreo estratificado = El total de la población es dividida en grupos más pequeños formados en base de algunas características en la población. Elige la misma cantidad de muestras de cada uno de los diferenbtes grupos (estratos) en la población.\n",
                "\n",
                "-Muestreo por conglomerados = Se divide la población en grupos y se elige las muestras de esos grupos. Los grupos de personas están formados del conjunto de la población. El grupo tiene características significativas similares. Además, tienen la misma oportunidad de ser parte de la muestra. Este método utiliza un muestreo aleatorio simple para el conglomerado de la población.\n",
                "\n",
                "Veamos algunos ejemplos de cómo obtener muestras."
            ]
        },
        {
            "cell_type": "code",
            "execution_count": 1,
            "id": "3f94b681",
            "metadata": {},
            "outputs": [
                {
                    "ename": "NameError",
                    "evalue": "name 'np' is not defined",
                    "output_type": "error",
                    "traceback": [
                        "\u001b[0;31m---------------------------------------------------------------------------\u001b[0m",
                        "\u001b[0;31mNameError\u001b[0m                                 Traceback (most recent call last)",
                        "Cell \u001b[0;32mIn[1], line 2\u001b[0m\n\u001b[1;32m      1\u001b[0m \u001b[39m# Generar Distribución Normal\u001b[39;00m\n\u001b[0;32m----> 2\u001b[0m normal_dist \u001b[39m=\u001b[39m np\u001b[39m.\u001b[39mrandom\u001b[39m.\u001b[39mrandn(\u001b[39m10000\u001b[39m)\n\u001b[1;32m      4\u001b[0m \u001b[39m# Ten en cuenta que tomamos muestras muy pequeñas solo para ilustrar los diferentes métodos de muestreo\u001b[39;00m\n\u001b[1;32m      5\u001b[0m \n\u001b[1;32m      6\u001b[0m \u001b[39m# Muestras de conveniencia\u001b[39;00m\n\u001b[1;32m      7\u001b[0m convenience_samples \u001b[39m=\u001b[39m normal_dist[\u001b[39m0\u001b[39m:\u001b[39m5\u001b[39m]\n",
                        "\u001b[0;31mNameError\u001b[0m: name 'np' is not defined"
                    ]
                }
            ],
            "source": [
                "# Generar Distribución Normal\n",
                "normal_dist = np.random.randn(10000)\n",
                "\n",
                "# Ten en cuenta que tomamos muestras muy pequeñas solo para ilustrar los diferentes métodos de muestreo\n",
                "\n",
                "# Muestras de conveniencia\n",
                "convenience_samples = normal_dist[0:5]\n",
                "\n",
                "# Muestras intencionales (seleccionar muestras para un propósito específico)\n",
                "# En este ejemplo, elegimos los 5 valores más altos en nuestra distribución\n",
                "purposive_samples = normal_dist.nlargest(n=5)\n",
                "\n",
                "# Muestra aleatoria simple (pseudo)\n",
                "random_samples = normal_dist.sample(5)\n",
                "\n",
                "# Muestra sistemática (Cada valor 2000)\n",
                "systematic_samples = normal_dist[normal_dist.index % 2000 == 0]\n",
                "\n",
                "# Muestreo estratificado\n",
                "# Obtendremos 1 estudiante de cada aula en el conjunto de datos\n",
                "# Tenemos 8 aulas por lo que hace un total de 8 muestras\n",
                "# Este es un código de ejemplo. No hay un conjunto de datos real.\n",
                "\n",
                "df = pd.read_csv('https://github.com/4GeeksAcademy/machine-learning-content/blob/master/assets/toy_dataset.csv')\n",
                "\n",
                "strat_samples = []\n",
                "\n",
                "for city in df['City'].unique():\n",
                "    samp = df[df['City'] == city].sample(1)\n",
                "    strat_samples.append(samp['Income'].item())\n",
                "    \n",
                "print('Stratified samples:\\n\\n{}\\n'.format(strat_samples))\n",
                "\n",
                "# Muestreo por conglomerados\n",
                "# Haz grupos aleatorios de diez personas (aquí con reemplazo)\n",
                "c1 = normal_dist.sample(10)\n",
                "c2 = normal_dist.sample(10)\n",
                "c3 = normal_dist.sample(10)\n",
                "c4 = normal_dist.sample(10)\n",
                "c5 = normal_dist.sample(10)\n",
                "\n",
                "\n",
                "# Tomar muestra de cada grupo (con reemplazo)\n",
                "clusters = [c1,c2,c3,c4,c5]\n",
                "cluster_samples = []\n",
                "for c in clusters:\n",
                "    clus_samp = c.sample(1)\n",
                "    cluster_samples.extend(clus_samp)\n",
                "print('Cluster samples:\\n\\n{}'.format(cluster_samples))    "
            ]
        },
        {
            "cell_type": "markdown",
            "id": "39eade08",
            "metadata": {},
            "source": [
                "**Conjuntos de datos desequilibrados**\n",
                "\n",
                "Un dataset (conjunto de datos) desequilibrado es un dataset donde las clases se distribuyen de manera desigual. Un dato desequilibrado puede crear problemas en la tarea de clasificación. Si usamos la precisión como una métrica de rendimiento, puede crear un gran problema. Digamos que nuestro modelo predice si una transacción bancaria fue una transacción fraudulenta o una transacción legal. Si el total de transacciones legales representó el 99,83 %, el uso de una métrica de precisión en el dataset de la tarjeta de crédito dará una precisión del 99,83 %, lo cual es excelente. ¿Sería un buen resultado? No.\n",
                "\n",
                "Para un conjunto de datos desequilibrado, se deben usar otras métricas de rendimiento, como la puntuación AUC de recuperación de precisión, la puntuación F1, etc. Además, el modelo estará sesgado hacia la clase mayoritaria. Ya que la mayoría de las técnicas de Machine Learning están diseñadas para trabajar bien con el con un dataset balanceado, debemos crear datos balanceados de un dataset desequilibrado, pero primero debemos dividir el dataset en el entrenamiento y las pruebas porque el cambio es solo para fines de entrenamiento. \n",
                "\n",
                "Una manera común de lidiar con datasets desequilibrados es con **remuestreo.** Aquí hay dos posibles técnicas de remuestreo:\n",
                "\n",
                "-Usa todas las muestras de nuestro evento que ocurre con mayor frecuencia y luego muestrea aleatoriamente nuestro evento que ocurre con menos frecuencia (con reemplazo) hasta que tengamos un dataset equilibrado.\n",
                "\n",
                "-Usa todas las muestras de nuetroevento que ocurre con menos frecuencia y luego muestrea aleatoriamente nuestro evento que ocurre con más frecuencia (con o sin reemplazo) hasta que tengamos un dataset equilibrado.\n",
                "\n"
            ]
        },
        {
            "cell_type": "markdown",
            "id": "aaee220c",
            "metadata": {},
            "source": [
                "### BIAS, MSE, SE"
            ]
        },
        {
            "cell_type": "markdown",
            "id": "f65e2010",
            "metadata": {},
            "source": [
                "**Bias** es la diferencia entre el valor calculado de un parámetro y el verdadero valor del parámetro de población que se está estimando.\n",
                "  \n",
                "Podemos decir que es la medida de cual lejos la media muestral se desvía de la media poblacional. La media de la muestra también se denomina valor esperado.\n",
                "\n",
                "Por ejemplo, si decidimos encuestar a los propietarios sobre el valor de sus casas y solo los propietarios más ricos responden, entonces el valor estimado de nuestra casa será **sesgado** ya que será mayor que el valor real para nuestra población.\n",
                "\n",
                "Veamos cómo calcularíamos la media de la población, el valor esperado y el bias usando Python:"
            ]
        },
        {
            "cell_type": "code",
            "execution_count": null,
            "id": "e52d835f",
            "metadata": {},
            "outputs": [],
            "source": [
                "# Tomar muestra\n",
                "df_sample = df.sample(100)\n",
                "\n",
                "# Calcula el valor esperado (EV), la media de la población y el el bias\n",
                "ev = df_sample.mean()[0]\n",
                "pop_mean = df.mean()[0]\n",
                "bias = ev - pop_mean\n",
                "\n",
                "print('Sample mean (Expected Value): ', ev)\n",
                "print('Population mean: ', pop_mean)\n",
                "print('Bias: ', bias)"
            ]
        },
        {
            "cell_type": "markdown",
            "id": "c0b244c9",
            "metadata": {},
            "source": [
                "**Error Cuadrático Medio (MSE)** es la fórmula para medir cuánto los estimadores se desvían de la verdadera distribución. Esto puede ser muy útil para evaluar modelos de regresión.\n",
                "\n",
                "\n",
                "**Error estándar (SE)** es una fórmula para medir qué tan separada está la distribución de la media de la muestra."
            ]
        },
        {
            "cell_type": "code",
            "execution_count": null,
            "id": "381f5ba0",
            "metadata": {},
            "outputs": [],
            "source": [
                "from math import sqrt\n",
                "from scipy.stats import sem\n",
                "\n",
                "Y = 100 # Verdadero valor\n",
                "YH = 85 # Valor previsto\n",
                "\n",
                "# MSE  \n",
                "def MSE(Y, YH):\n",
                "    return np.square(YH - Y).mean()\n",
                "\n",
                "# RMSE \n",
                "def RMSE(Y, YH):\n",
                "    return sqrt(np.square(YH - Y).mean())\n",
                "\n",
                "\n",
                "print('MSE: ', MSE(Y, YH))\n",
                "print('RMSE: ', RMSE(Y, YH))\n",
                "\n",
                "#SE\n",
                "\n",
                "norm_sample = normal_dist.sample(100)\n",
                "\n",
                "print('Standard Error of normal sample: ', sem(norm_sample))"
            ]
        },
        {
            "cell_type": "markdown",
            "id": "ae0c761a",
            "metadata": {},
            "source": [
                "### Introducción a los niveles de confianza y los intervalos de confianza"
            ]
        },
        {
            "cell_type": "markdown",
            "id": "7cfa6e6f",
            "metadata": {},
            "source": [
                "\n",
                "Para hacer frente a la incertidumbre, podemos usar un intervalo estimádo. Provee un rango de valores que mejor describen a la población. Para desarrollar una estimación de intervalo, primero debemos conocer los niveles de confianza."
            ]
        },
        {
            "cell_type": "markdown",
            "id": "8fd3aaef",
            "metadata": {},
            "source": [
                "**Niveles de confianza**"
            ]
        },
        {
            "cell_type": "markdown",
            "id": "09f77a41",
            "metadata": {},
            "source": [
                "Un nivel de confianza es la probabilidad de que la estimación de intervalo incluya el parámetro de la población (como a la media).\n",
                "\n",
                "Un parámetro es una descripción numérica de una característica de la población."
            ]
        },
        {
            "attachments": {},
            "cell_type": "markdown",
            "id": "ed0bc722",
            "metadata": {},
            "source": [
                "![hypothesis_testing_standard_normal_distribution.jpg](https://github.com/4GeeksAcademy/machine-learning-content/blob/master/assets/hypothesis_testing_standard_normal_distribution.jpg?raw=true)"
            ]
        },
        {
            "cell_type": "markdown",
            "id": "e2ad0cfc",
            "metadata": {},
            "source": [
                "\n",
                "Las medias muestrales seguirán la distribución de probabilidad normal para tamaños de muestra grandes $(n>=30)$\n",
                "\n",
                "Para construir estimación de intervalo con un 90% de nivel de confianza.\n",
                "\n",
                "El nivel de confianza corresponde \n",
                "\n",
                "El nivel de confianza corresponde a un puntaje z de la tabla normal estándar igual a $1.645$"
            ]
        },
        {
            "attachments": {},
            "cell_type": "markdown",
            "id": "f6c1c24b",
            "metadata": {},
            "source": [
                "![hypothesis_testing_confidence_interval.png](https://github.com/4GeeksAcademy/machine-learning-content/blob/master/assets/hypothesis_testing_confidence_interval.jpg?raw=true)"
            ]
        },
        {
            "cell_type": "markdown",
            "id": "20fcd562",
            "metadata": {},
            "source": [
                "**Intervalo de confianza**\n"
            ]
        },
        {
            "cell_type": "markdown",
            "id": "177ca56a",
            "metadata": {},
            "source": [
                "Un intervalo de confianza es un rango de valores utilizado para estimar un parámetro de la población y es asociado con un nivel de confianza específico\n",
                "\n",
                "El intervalo de confianza necesita ser descrito en el contexto de múltiples muestras.\n",
                "\n",
                "Vamos a construir un intervalo de confianza alrededor de una media de muestra usando estas ecuaciones:\n",
                "    \n",
                "$x̄ ± z c$\n",
                "    \n",
                "Donde:\n",
                "    \n",
                "$x̄$ = la media muestral\n",
                "\n",
                "$z$ = el puntaje z, que es el número de desviaciones estándar basadas en el nivel de confianza\n",
                "\n",
                "$c$ = el error estándar de la media\n",
                "\n",
                "\n",
                "Selecciona 10 muestras y construye intervalos de confianza del 90 % alrededor de cada una de las medias muestrales.\n",
                "\n",
                "Teóricamente, 9 de los 10 intervalos contendrán la verdadera media poblacional que permanece desconocida."
            ]
        },
        {
            "attachments": {},
            "cell_type": "markdown",
            "id": "f3c5debf",
            "metadata": {},
            "source": [
                "![hypothesis_testing_confidence_interval_example.jpg](https://github.com/4GeeksAcademy/machine-learning-content/blob/master/assets/hypothesis_testing_confidence_interval_example.jpg?raw=true)"
            ]
        },
        {
            "cell_type": "markdown",
            "id": "af9f7ac6",
            "metadata": {},
            "source": [
                "No malinterpretes la definición de un intervalo de confianza:\n",
                "\n",
                "Falso: 'Hay un 90% de probabilidad de que la verdadera media de la población esté dentro del intervalo'.\n",
                "\n",
                "Verdadero: 'Hay un 90% de probabilidad de que cualquier intervalo de confianza dado de una muestra aleatoria, contenga la verdadera media de la población.'\n",
                "\n",
                "Para resumir, cuando creamos un intervalo de confianza, es importante poder interpretar el significado del nivel de confianza que utilizamos y el intervalo que fue obtenido.\n",
                "\n",
                "El nivel de confianza se refiere a la tasa de éxito a largo plazo del método, lo que significa con qué frecuencia este tipo de intervalo capturará el parámetro de interés.\n",
                "\n",
                "Un intervalo de confianza específico da un rango de valores plausibles para el parámetro de interés."
            ]
        },
        {
            "cell_type": "markdown",
            "id": "59aa42b2",
            "metadata": {},
            "source": [
                "### Pasos para formular una hipótesis\n",
                "\n",
                "\n",
                "La prueba de hipótesis es un método estadístico que se utiliza para tomar decisiones estadísticas utilizando datos experimentales.\n",
                "\n",
                "La prueba de hipótesis es básicamente una suposición que hacemos sobre el parámetro de la población.\n",
                "\n",
                "Por ejemplo, cuando decimos que los chicos son más altos que las chicas. Esta suposición necesita alguna manera estadística para comprobarlo, necesitamos una conclusión matemática sea lo que sea que supongamos que es cierto.\n",
                "\n",
                "Las hipótesis son afirmaciones y podemos usar estadísticas para probarlas o refutarlas. La prueba de hipótesis estructura los problemas para que podamos usar evidencia estadística para probar estas afirmaciones y verificar si la afirmación es válida o no.\n",
                "\n",
                "**Pasos:**\n",
                "\n",
                "1. Definición de hipótesis.\n",
                "\n",
                "2. Comprobación de supuestos.\n",
                "\n",
                "3. Establecer los niveles de significancia.\n",
                "\n",
                "4. Selección de la prueba adecuada.\n",
                "\n",
                "5. Llevar a cabo la prueba de hipótesis y calcular las estadísticas de prueba y el valor P correspondiente.\n",
                "\n",
                "6. Compara el valor P con los niveles de significancia y luego decide aceptar o rechazar la hipótesis nula."
            ]
        },
        {
            "cell_type": "markdown",
            "id": "61ebd1cb",
            "metadata": {},
            "source": [
                "**1. Definición de nuestra hipótesis nula y alternativa**\n",
                "\n",
                "Primero que nada, tenemos que entender a que pregunta científica le estamos buscando una repuesta, y debería de ser formulada en la forma de Hipótesis Nula ($H₀$) y la Hipótesis Alternativa ($H₁$ o $Hₐ$).\n",
                "\n",
                "¿Qué es la hipótesis nula? ($H₀$)\n",
                "\n",
                "La hipótesis nula es una declaración sobre un parámetro de población, la declaración asumida como cierta antes de que recopilemos los datos. Probamos la probabilidad de que esta afirmación sea cierta para decidir si aceptamos o rechazamos nuestra hipótesis alternativa. Puede considerarse como el 'control' del experimento y normalmente tiene algún signo igual ($>=, <=, =$)\n",
                "\n",
                "¿Qué es la hipótesis alternativa? ($Hₐ$)\n",
                "\n",
                "Es una afirmación que contradice directamente la hipótesis nula. Esto es lo que queremos demostrar que es cierto con nuestros datos recopilados. Se puede considerar como el 'experimento'. Suele tener el signo opuesto de la hipótesis nula.\n",
                "\n",
                "**Dato:** Las estadísticas de muestra no son lo que debería estar involucrado en nuestra hipótesis. Nuestras hipótesis son afirmaciones sobre la población que queremos estudiar. Recuerda que $H₀$ y $Hₐ$ deben ser mutuamente excluyentes, y $Hₐ$ no debe contener igualdad."
            ]
        },
        {
            "cell_type": "markdown",
            "id": "27951576",
            "metadata": {},
            "source": [
                "**2. Comprobación de supuestos**\n",
                "\n",
                "Para decidir si utilizar la versión paramétrica o no paramétrica de la prueba, debemos verificar si:\n",
                "\n",
                "-Las observaciones en cada muestra son independientes e idénticamente distribuidas (IID).\n",
                "\n",
                "-Las observaciones en cada muestra se distribuyen normalmente.\n",
                "\n",
                "-Las observaciones en cada muestra tienen la misma varianza.\n",
                "\n",
                "Lo siguiente que hacemos es establecer un umbral conocido como nivel de significancia."
            ]
        },
        {
            "cell_type": "markdown",
            "id": "a460b999",
            "metadata": {},
            "source": [
                "**3. Nivel de significancia**\n",
                "\n"
            ]
        },
        {
            "cell_type": "markdown",
            "id": "e0052181",
            "metadata": {},
            "source": [
                "Se refiere al grado de significación en el que aceptamos o rechazamos la hipótesis nula. No es posible una precisión del 100 % para aceptar o rechazar una hipótesis, por lo que seleccionamos un nivel de significación que suele ser del 5 %.\n",
                "\n",
                "El grado de significancia es definido como la probabilidad fija de eliminación incorrecta de la hipótesis nula cuando, de hecho, es verdadera. El nivel de significación $α$ (alfa) es la probabilidad de cometer un error tipo 1 (falso positivo). La probabilidad del intervalo de confianza es un complemento del nivel de significancia.\n",
                "\n",
                "Un intervalo de confianza $(1-α)$ tiene un nivel de significación igual a $α$.\n",
                "\n",
                "Teniendo un 95% de probabilidad de que cualquier intervalo de confianza dado contenga la verdadera media de la población, hay un 5% de probabilidad de que no lo haga.\n",
                "\n",
                "Este 5% se conoce como el nivel de significancia."
            ]
        },
        {
            "cell_type": "markdown",
            "id": "0e887db8",
            "metadata": {},
            "source": [
                "**4. Selección de la prueba adecuada**"
            ]
        },
        {
            "cell_type": "markdown",
            "id": "8e582575",
            "metadata": {},
            "source": [
                "Existe una variedad de procedimientos estadísticos. La adecuada depende de la(s) pregunta(s) de investigación que estemos haciendo y del tipo de datos que recopilamos. Necesitamos analizar cuántos grupos se están comparando y si los datos están emparejados o no.\n",
                "\n",
                "Para determinar si los datos coinciden, es necesario considerar si los datos se recopilaron de las mismas personas.\n",
                "\n",
                "**Prueba T** : para 1 variable independiente con 2 categorías, y la variable objetivo.\n",
                "\n",
                "Cuando deseamos saber si las medias de dos grupos en un aula de estudiantes (hombres y mujeres en una variable de género) difieren, es apropiada una prueba t. En orden de calcular una prueba t, necesitamos conocer la media, desviación estándar y número de individuos en cada uno de los dos grupos. Un ejemplo de una pregunta de investigación de prueba t es \"¿Existe una diferencia significativa entre los puntajes de escritura de niños y niñas en el aula?\" Una respuesta de muestra podría ser: “Los niños $(M=5.67, SD=.45)$ y las niñas $(M=5.76, SD=.50)$ puntúan de manera similar en escritura, $t(35)=.54$, $ p>.05$.” [Nota: $(35)$ son los grados de libertad para una prueba t. Es el número de individuos menos el número de grupos (siempre 2 grupos con una prueba t). En este ejemplo, había 37 personas y 2 grupos, por lo que los grados de libertad son $37-2=35$.] Recuerda, una prueba t solo puede comparar las medias de dos grupos de una variable independiente (por ejemplo, el género) en una única variable dependiente (por ejemplo, puntuación de escritura).\n",
                "\n",
                "Una distribución t es más plana que una distribución normal. A medida que aumentan los grados de libertad, la forma de la distribución t se vuelve similar a una distribución normal. Con más de 30 grados de libertad (tamaño de muestra de 30 o más) las dos distribuciones son prácticamente idénticas.\n",
                "\n",
                "Tipos de prueba T:\n",
                "\n",
                "-Prueba t de dos muestras: si dos grupos independientes tienen medias diferentes.\n",
                "\n",
                "-Prueba T pareada: si un grupo tiene diferentes medias en diferentes momentos.\n",
                "\n",
                "-Prueba T de una muestra: media de un solo grupo frente a una media conocida.\n",
                "\n",
                "Suposiciones acerca de los datos\n",
                "\n",
                "1. Indepe­ndiente.\n",
                "\n",
                "2. Normalmente distribuido.\n",
                "\n",
                "3. Tienen una cantidad similar de varianza dentro de cada grupo que se compara.\n",
                "\n",
                "Prueba t de una muestra: la prueba t de una muestra determina si la media de la muestra es estadísticamente diferente de una media poblacional conocida o hipotética. La prueba t de una muestra es una prueba paramétrica.\n",
                "\n",
                "Imaginemos que tenemos un conjunto de datos pequeño con 10 edades y estamos comprobando si la edad promedio es 30 o no. Podríamos resolverlo de esta manera:\n",
                "\n",
                "\n",
                "```py\n",
                "    from scipy.stats import ttest_1samp\n",
                "    import numpy as np\n",
                "    ages = np.genfromtxt(“ages.csv”)\n",
                "    print(ages)\n",
                "    ages_mean = np.mean(ages)\n",
                "    print(ages_mean)\n",
                "    tset, pval = ttest_1samp(ages, 30)\n",
                "    print(“p-values”,pval)\n",
                "    if pval < 0.05:    # el valor alfa es 0.05 o 5%\n",
                "      print(\"we are rejecting null hypothesis\")\n",
                "    else:\n",
                "      print(\"we are accepting null hypothesis\")\n",
                "```\n",
                "\n",
                "Prueba t de dos muestras: la prueba t de muestras independientes o prueba t de 2 muestras compara las medias de dos grupos independientes para determinar si existe evidencia estadística de que las medias de población asociadas son significativamente diferentes. La prueba t para muestras independientes es una prueba paramétrica. Esta prueba también se conoce como: Prueba t independiente.\n",
                "\n",
                "Por ejemplo, si quisiéramos ver si existe alguna asociación entre la semana 1 y la semana 2, podríamos hacerlo con el siguiente código:\n",
                "\n",
                "```py\n",
                "    from scipy.stats import ttest_ind\n",
                "    import numpy as np\n",
                "\n",
                "    week1 = np.genfromtxt(\"week1.csv\",  delimiter=\",\")\n",
                "    week2 = np.genfromtxt(\"week2.csv\",  delimiter=\",\")\n",
                "    print(week1)\n",
                "    print(\"week2 data :-\\n\")\n",
                "    print(week2)\n",
                "    week1_mean = np.mean(week1)\n",
                "    week2_mean = np.mean(week2)\n",
                "    print(\"week1 mean value:\",week1_mean)\n",
                "    print(\"week2 mean value:\",week2_mean)\n",
                "    week1_std = np.std(week1)\n",
                "    week2_std = np.std(week2)\n",
                "    print(\"week1 std value:\",week1_std)\n",
                "    print(\"week2 std value:\",week2_std)\n",
                "    ttest,pval = ttest_ind(week1,week2)\n",
                "    print(\"p-value\",pval)\n",
                "    if pval <0.05:\n",
                "      print(\"we reject null hypothesis\")\n",
                "    else:\n",
                "      print(\"we accept null hypothesis\")\n",
                "  ```\n",
                "\n",
                "Prueba t de muestra pareada: la prueba t de muestra pareada también se denomina prueba t de muestra dependiente. Es una prueba univariada que examina una diferencia significativa entre 2 variables relacionadas. Un ejemplo de esto es si fueses recopilar la presión arterial de una persona antes y después de algún tratamiento, condición o momento.\n",
                "\n",
                "$H0$ : la diferencia de medias entre dos muestras es 0.\n",
                "\n",
                "$H1$: diferencia media entre dos muestras no es 0.\n",
                "\n",
                "Intentemos ejecutar el siguiente código de ejemplo:"
            ]
        },
        {
            "cell_type": "code",
            "execution_count": 3,
            "id": "efc1418f",
            "metadata": {},
            "outputs": [
                {
                    "name": "stdout",
                    "output_type": "stream",
                    "text": [
                        "0.0011297914644840823\n",
                        "reject null hypothesis\n"
                    ]
                }
            ],
            "source": [
                "import pandas as pd\n",
                "from scipy import stats\n",
                "\n",
                "df = pd.read_csv('https://github.com/4GeeksAcademy/machine-learning-content/blob/master/assets/blood_pressure.csv')\n",
                "\n",
                "df[['bp_before','bp_after']].describe()\n",
                "ttest,pval = stats.ttest_rel(df['bp_before'], df['bp_after'])\n",
                "print(pval)\n",
                "\n",
                "if pval<0.05:\n",
                "    print(\"reject null hypothesis\")\n",
                "else:\n",
                "    print(\"accept null hypothesis\")"
            ]
        },
        {
            "cell_type": "markdown",
            "id": "ab4c26d1",
            "metadata": {},
            "source": [
                "\n",
                "**PRUEBA F (Análisis ANOVA)**\n",
                "\n",
                "La prueba t funciona bien cuando se trata de dos grupos, pero a veces queremos comparar más de dos al mismo tiempo. Por ejemplo, si quisiéramos probar si la edad de los votantes difiere en función de alguna variable categórica como la raza, tenemos que comparar las medias de cada nivel o agrupar la variable. Podríamos realizar una prueba t separada para cada par de grupos, pero cuando realizas muchas pruebas, aumenta las posibilidades de falsos positivos.\n",
                "\n",
                "El análisis de varianza o ANOVA es una prueba de inferencia estadística que te permite comparar varios grupos al mismo tiempo. A diferencia de las distribuciones t, la distribución F no tiene valores negativos porque la variabilidad entre y dentro del grupo siempre es positiva debido al cuadrado de cada desviación.\n",
                "\n",
                "Anova unidireccional: una variable independiente con más de 2 categorías y la variable objetivo.\n",
                "\n",
                "Si tenemos una variable independiente (con tres o más categorías) y una variable dependiente, hacemos un ANOVA de una vía.Una pregunta de investigación de muestra es: \"¿Los médicos, maestros e ingenieros difieren en su opinión sobre un aumento de impuestos?\" Una respuesta de muestra es: “Los maestros $(M=3.56, SD=.56)$ tienen menos probabilidades de favorecer un aumento de impuestos que los médicos $(M=5.67, SD=.60)$ o los ingenieros $(M=5.34, SD =.45)$, $F(2,120)=5.67$, $p<.05$.” [Nota: Los $(2,207)$ son los grados de libertad para un ANOVA.El primer número es el número de grupos menos 1. Como teníamos tres profesiones es 2, porque 3-1=2. El segundo número es el número total de individuos menos el número de grupos. Porque teníamos 210 sujetos y 3 grupos, son 207 (210 - 3)].\n",
                "\n",
                "Ejemplo de código: hay 3 categorías diferentes de plantas y su peso y es necesario verificar si los 3 grupos son similares o no."
            ]
        },
        {
            "cell_type": "code",
            "execution_count": 4,
            "id": "b23a5da4",
            "metadata": {},
            "outputs": [
                {
                    "name": "stdout",
                    "output_type": "stream",
                    "text": [
                        "p-value for significance is:  0.0159099583256229\n",
                        "reject null hypothesis\n"
                    ]
                }
            ],
            "source": [
                "df_anova = pd.read_csv('https://github.com/4GeeksAcademy/machine-learning-content/blob/master/assets/PlantGrowth.csv')\n",
                "df_anova = df_anova[['weight','group']]\n",
                "grps = pd.unique(df_anova.group.values)\n",
                "d_data = {grp:df_anova['weight'][df_anova.group == grp] for grp in grps}\n",
                " \n",
                "F, p = stats.f_oneway(d_data['ctrl'], d_data['trt1'], d_data['trt2'])\n",
                "print(\"p-value for significance is: \", p)\n",
                "if p<0.05:\n",
                "    print(\"reject null hypothesis\")\n",
                "else:\n",
                "    print(\"accept null hypothesis\")"
            ]
        },
        {
            "cell_type": "markdown",
            "id": "28823ea4",
            "metadata": {},
            "source": [
                "Anova bidireccional: más de una variable independiente con dos o más categorías cada una y la variable objetivo.\n",
                "\n",
                "Un ANOVA de dos vías tiene tres preguntas de investigación, una para cada una de las dos variables independientes y otra para la interacción de las dos variables independientes. La prueba F de 2 vías no indica qué variable es dominante. si necesitamos verificar la importancia individual, entonces se deben realizar pruebas post-hoc.\n",
                "\n",
                "Ejemplos de preguntas de investigación para un ANOVA de dos vías:\n",
                "¿Difieren los maestros, médicos e ingenieros en su opinión sobre un aumento de impuestos?\n",
                "¿Los hombres y las mujeres difieren en su opinión sobre un aumento de impuestos?\n",
                "¿Existe una interacción entre género y profesión en cuanto a las opiniones sobre un aumento de impuestos?\n",
                "\n",
                "Un ANOVA de dos vías tiene tres hipótesis nulas, tres hipótesis alternativas y tres respuestas a la pregunta de investigación.\n",
                "\n",
                "Suposiciones sobre los datos:\n",
                "\n",
                "1. Cada dato $y$ se distribuye normalmente.\n",
                "\n",
                "2. La varianza de cada grupo de tratamiento es la misma.\n",
                "\n",
                "3. Todas las observaciones son independientes.\n",
                "\n",
                "Ejemplo de código: echemos un vistazo al rendimiento de cultivo medio general (el rendimiento de cultivo medio no por ningún subgrupo), así como el rendimiento de cultivo medio por cada factor, así como por los factores agrupados."
            ]
        },
        {
            "cell_type": "code",
            "execution_count": 2,
            "id": "d18737b6",
            "metadata": {},
            "outputs": [
                {
                    "name": "stdout",
                    "output_type": "stream",
                    "text": [
                        "Overall model F( 3, 16) =  4.112, p =  0.0243\n"
                    ]
                },
                {
                    "data": {
                        "text/html": [
                            "<div>\n",
                            "<style scoped>\n",
                            "    .dataframe tbody tr th:only-of-type {\n",
                            "        vertical-align: middle;\n",
                            "    }\n",
                            "\n",
                            "    .dataframe tbody tr th {\n",
                            "        vertical-align: top;\n",
                            "    }\n",
                            "\n",
                            "    .dataframe thead th {\n",
                            "        text-align: right;\n",
                            "    }\n",
                            "</style>\n",
                            "<table border=\"1\" class=\"dataframe\">\n",
                            "  <thead>\n",
                            "    <tr style=\"text-align: right;\">\n",
                            "      <th></th>\n",
                            "      <th>sum_sq</th>\n",
                            "      <th>df</th>\n",
                            "      <th>F</th>\n",
                            "      <th>PR(&gt;F)</th>\n",
                            "    </tr>\n",
                            "  </thead>\n",
                            "  <tbody>\n",
                            "    <tr>\n",
                            "      <th>C(Fert)</th>\n",
                            "      <td>69.192</td>\n",
                            "      <td>1.0</td>\n",
                            "      <td>5.766000</td>\n",
                            "      <td>0.028847</td>\n",
                            "    </tr>\n",
                            "    <tr>\n",
                            "      <th>C(Water)</th>\n",
                            "      <td>63.368</td>\n",
                            "      <td>1.0</td>\n",
                            "      <td>5.280667</td>\n",
                            "      <td>0.035386</td>\n",
                            "    </tr>\n",
                            "    <tr>\n",
                            "      <th>C(Fert):C(Water)</th>\n",
                            "      <td>15.488</td>\n",
                            "      <td>1.0</td>\n",
                            "      <td>1.290667</td>\n",
                            "      <td>0.272656</td>\n",
                            "    </tr>\n",
                            "    <tr>\n",
                            "      <th>Residual</th>\n",
                            "      <td>192.000</td>\n",
                            "      <td>16.0</td>\n",
                            "      <td>NaN</td>\n",
                            "      <td>NaN</td>\n",
                            "    </tr>\n",
                            "  </tbody>\n",
                            "</table>\n",
                            "</div>"
                        ],
                        "text/plain": [
                            "                   sum_sq    df         F    PR(>F)\n",
                            "C(Fert)            69.192   1.0  5.766000  0.028847\n",
                            "C(Water)           63.368   1.0  5.280667  0.035386\n",
                            "C(Fert):C(Water)   15.488   1.0  1.290667  0.272656\n",
                            "Residual          192.000  16.0       NaN       NaN"
                        ]
                    },
                    "execution_count": 2,
                    "metadata": {},
                    "output_type": "execute_result"
                }
            ],
            "source": [
                "import pandas as pd\n",
                "import statsmodels.api as sm\n",
                "from statsmodels.formula.api import ols\n",
                "\n",
                "df_anova2 = pd.read_csv(\"https://raw.githubusercontent.com/Opensourcefordatascience/Data-sets/master/crop_yield.csv\")\n",
                "model = ols('Yield ~ C(Fert)*C(Water)', df_anova2).fit()\n",
                "print(f\"Overall model F({model.df_model: .0f},{model.df_resid: .0f}) = {model.fvalue: .3f}, p = {model.f_pvalue: .4f}\")\n",
                "\n",
                "res = sm.stats.anova_lm(model, typ= 2)\n",
                "res"
            ]
        },
        {
            "cell_type": "markdown",
            "id": "892e6b61",
            "metadata": {},
            "source": [
                "**Chi-square**\n",
                "\n",
                "Podríamos contar los incidentes de algo y comparar lo que mostraron nuestros datos reales con lo que esperaríamos. Supongamos que encuestamos a 45 personas sobre si prefieren el rock, el reggae o el jazz como su tipo de música favorita.\n",
                "\n",
                "Si no hubiera preferencia, esperaríamos que 15 seleccionaran rock, 15 seleccionarían reggae y 15 seleccionarían jazz. Entonces nuestra muestra indicó que a 30 les gusta el rock, a 5 les gusta el reggae ya 10 les gusta el jazz. Usamos un chi-cuadrado para comparar lo que observamos (real) con lo que esperamos. Una pregunta de investigación de muestra sería: \"¿Hay una preferencia por la música rock, reggae o jazz?\" Una respuesta de muestra es “No había igual preferencia por el rock, el reggae y el jazz.\n",
                "\n",
                "Así como las pruebas t nos dicen qué tan seguros podemos estar de decir que hay diferencias entre las medias de dos grupos, el chi-cuadrado nos dice qué tan seguros podemos estar de decir que nuestros resultados observados difieren de los resultados esperados.\n",
                "\n",
                "Tipos de prueba Chi-Cuadrado:\n",
                "\n",
                "-Test de independencia: test de independencia de dos variables categóricas.\n",
                "\n",
                "-Homogeneidad de varianza: prueba si más de dos subgrupos de una población comparten la misma distribución multivariante.\n",
                "\n",
                "-Bondad de ajuste: si un modelo multinomial para la distribución de la población (P1,....Pm) se ajusta a nuestros datos.\n",
                "\n",
                "La prueba de independencia y la homogeneidad de la varianza comparten las mismas estadísticas de prueba y grados de libertad por diferente diseño de experimento.\n",
                "\n",
                "Suposiciones:\n",
                "\n",
                "1. Una o dos variables categóricas.\n",
                "\n",
                "2. Observaciones independientes.\n",
                "\n",
                "3. Resultados mutuamente excluyentes.\n",
                "\n",
                "4. Grande $n$ y no más del 20% de los conteos esperados $< 5$.\n",
                "\n",
                "Ejemplo de código: en una encuesta electoral, los votantes pueden clasificarse por género (masculino o femenino) y preferencia de voto (demócrata, republicano o independiente). Podríamos usar una prueba de chi-cuadrado para la independencia para determinar si el género está relacionado con la preferencia de voto."
            ]
        },
        {
            "cell_type": "code",
            "execution_count": 10,
            "id": "9f328d7e",
            "metadata": {},
            "outputs": [
                {
                    "name": "stdout",
                    "output_type": "stream",
                    "text": [
                        "contingency_table :-\n",
                        " Like Shopping?  No  Yes\n",
                        "Gender                 \n",
                        "Female           2    3\n",
                        "Male             2    2\n",
                        "Observed Values :-\n",
                        " [[2 3]\n",
                        " [2 2]]\n",
                        "Expected Values :-\n",
                        " [[2.22222222 2.77777778]\n",
                        " [1.77777778 2.22222222]]\n",
                        "Degree of Freedom:- 1\n",
                        "chi-square statistic:- 0.09000000000000008\n",
                        "critical_value: 3.841458820694124\n",
                        "p-value: 0.7641771556220945\n",
                        "Significance level:  0.05\n",
                        "Degree of Freedom:  1\n",
                        "chi-square statistic: 0.09000000000000008\n",
                        "critical_value: 3.841458820694124\n",
                        "p-value: 0.7641771556220945\n",
                        "Retain H0,There is no relationship between 2 categorical variables\n",
                        "Retain H0,There is no relationship between 2 categorical variables\n"
                    ]
                }
            ],
            "source": [
                "df_chi = pd.read_csv('https://github.com/4GeeksAcademy/machine-learning-content/blob/master/assets/chi-test.csv')\n",
                "contingency_table=pd.crosstab(df_chi[\"Gender\"],df_chi[\"Like Shopping?\"])\n",
                "print('contingency_table :-\\n',contingency_table)\n",
                "\n",
                "#Valores observados\n",
                "Observed_Values = contingency_table.values \n",
                "print(\"Observed Values :-\\n\",Observed_Values)\n",
                "\n",
                "b=stats.chi2_contingency(contingency_table)\n",
                "Expected_Values = b[3]\n",
                "print(\"Expected Values :-\\n\",Expected_Values)\n",
                "\n",
                "no_of_rows=len(contingency_table.iloc[0:2,0])\n",
                "no_of_columns=len(contingency_table.iloc[0,0:2])\n",
                "ddof=(no_of_rows-1)*(no_of_columns-1)\n",
                "print(\"Degree of Freedom:-\",ddof)\n",
                "\n",
                "alpha = 0.05\n",
                "\n",
                "from scipy.stats import chi2\n",
                "\n",
                "chi_square=sum([(o-e)**2./e for o,e in zip(Observed_Values,Expected_Values)])\n",
                "chi_square_statistic=chi_square[0]+chi_square[1]\n",
                "print(\"chi-square statistic:-\",chi_square_statistic)\n",
                "\n",
                "critical_value=chi2.ppf(q=1-alpha,df=ddof)\n",
                "print('critical_value:',critical_value)\n",
                "\n",
                "#valor-p\n",
                "p_value=1-chi2.cdf(x=chi_square_statistic,df=ddof)\n",
                "\n",
                "print('p-value:',p_value)\n",
                "print('Significance level: ',alpha)\n",
                "print('Degree of Freedom: ',ddof)\n",
                "print('chi-square statistic:',chi_square_statistic)\n",
                "print('critical_value:',critical_value)\n",
                "print('p-value:',p_value)\n",
                "\n",
                "if chi_square_statistic>=critical_value:\n",
                "    print(\"Reject H0,There is a relationship between 2 categorical variables\")\n",
                "else:\n",
                "    print(\"Retain H0,There is no relationship between 2 categorical variables\")\n",
                "    \n",
                "if p_value<=alpha:\n",
                "    print(\"Reject H0,There is a relationship between 2 categorical variables\")\n",
                "else:\n",
                "    print(\"Retain H0,There is no relationship between 2 categorical variables\")"
            ]
        },
        {
            "cell_type": "markdown",
            "id": "2a730077",
            "metadata": {},
            "source": [
                "**5. ¿Cuál es el valor p?**\n",
                "\n",
                "Al probar una hipótesis, el valor p es la probabilidad de que observemos resultados al menos tan extremos como nuestro resultado debido puramente al azar si la hipótesis nula fuera cierta. Usamos valores p para sacar conclusiones en las pruebas de significación. Más específicamente, comparamos el valor p con un nivel de significancia para sacar conclusiones sobre nuestras hipótesis.\n",
                "\n",
                "Si el valor p es menor que el nivel de significancia que elegimos, entonces rechazamos la hipótesis nula, a favor de la hipótesis alternativa.\n",
                "\n",
                "Si el valor p es mayor o igual que el nivel de significancia, entonces no podemos rechazar la hipótesis nula, pero esto no significa que la aceptemos.\n",
                "\n",
                "¿Qué valor se usa con más frecuencia para determinar la significación estadística?\n",
                "\n",
                "Un valor de alfa = 0,05 se utiliza con mayor frecuencia como umbral de significación estadística.\n",
                "\n",
                "En otras palabras, un valor bajo de p significa que tenemos evidencia convincente para rechazar la hipótesis nula. Si el valor p es inferior al 5 %, a menudo rechazamos $Ho$ y aceptamos que $Ha$ es verdadero. Decimos que $p < 0.05$ es estadísticamente significativo, porque hay menos del 5% de probabilidad de que nos equivoquemos al rechazar la hipótesis nula.\n",
                "\n",
                "Una forma de calcular el valor p es a través de una prueba T. Podemos usar la función ttest_ind de Scipy para calcular la prueba t para las medias de dos muestras independientes de puntajes.\n",
                "\n",
                "Vamos a ver un ejemplo:\n",
                "\n",
                "María diseñó un experimento en el que algunas personas probaron limonadas de cuatro vasos diferentes e intentaron identificar qué vaso contenía limonada casera. Cada sujeto recibió tres vasos que contenían limonada picada y un vaso que contenía limonada casera (el orden fue aleatorio). Quería probar si los sujetos podían hacer algo mejor que simplemente adivinar al identificar la limonada casera.\n",
                "\n",
                "Su hipótesis nula $Ho$ : $p = 0.30$\n",
                "\n",
                "Su hipótesis alternativa $Ha$ : $p > 0.30$\n",
                "\n",
                "*p es la probabilidad de que las personas identifiquen la limonada casera*\n",
                "\n",
                "El experimento mostró que 18 de los 50 individuos identificaron correctamente la limonada casera. María calculó que la estadística $p = 18/50 = 0,3$ tenía un valor p asociado de aproximadamente $0,061$.\n",
                "\n",
                "Usando un nivel de significación de $α = 0.05$, ¿qué conclusiones podemos obtener?\n",
                "\n",
                "* Dado que el valor p es mayor que el nivel de significación, debemos rechazar la hipótesis nula Ho.\n",
                "\n",
                "* No tenemos suficiente evidencia para decir que estas personas pueden hacer algo mejor que adivinar al identificar la limonada casera.\n",
                "\n",
                "La hipótesis nula $Ho$: $p=0.25$ dice que su probabilidad no es mejor que adivinar, y fallamos en rechazar la hipótesis nula.m"
            ]
        },
        {
            "cell_type": "markdown",
            "id": "1b65c464",
            "metadata": {},
            "source": [
                "**6. Decision and Conclusion**\n",
                "\n",
                "Después de realizar la prueba de hipótesis, obtenemos un valor p relacionado que muestra la importancia de la prueba.\n",
                "\n",
                "Si el valor p es más pequeño que el nivel de significancia, hay suficiente evidencia para probar que H₀ no es válido; puede rechazar H₀. De lo contrario, no puede rechazar H₀."
            ]
        },
        {
            "cell_type": "markdown",
            "id": "c5518e41",
            "metadata": {},
            "source": [
                "### Posibles errores en las pruebas\n",
                "\n",
                "¿Qué es el error tipo I?\n",
                "\n",
                "El error de tipo I es el rechazo de una hipótesis nula verdadera o una clasificación de \"falso positivo\".\n",
                "\n",
                "¿Qué es el error tipo II?\n",
                "\n",
                "El error de tipo II es el no rechazo de una hipótesis nula falsa o una clasificación negativa falsa.\n",
                "\n",
                "Podemos tomar cuatro decisiones diferentes con la prueba de hipótesis:\n",
                "\n",
                "Rechaza $Ho$ y $Ho$ no es verdadero (sin error)\n",
                "\n",
                "No rechaces $ Ho $ y $ Ho $ es verdadero (sin error)\n",
                "\n",
                "Rechaza $Ho$ y $Ho$ es verdadero (Error tipo 1)\n",
                "\n",
                "No rechaces $Ho$ y $Ho$ no es verdadero (Error tipo 2)\n",
                "\n",
                "El error de tipo 1 también se denomina error alfa. El error de tipo 2 también se denomina error Beta."
            ]
        },
        {
            "cell_type": "markdown",
            "id": "c86ed91f",
            "metadata": {},
            "source": [
                "## Implicaciones en in Machine Learning"
            ]
        },
        {
            "attachments": {},
            "cell_type": "markdown",
            "id": "fedcc014",
            "metadata": {},
            "source": [
                "El teorema del límite central tiene implicaciones importantes en el aprendizaje automático aplicado. El teorema informa la solución de algoritmos lineales como la regresión lineal, pero no métodos exóticos como redes neuronales artificiales que se resuelven mediante métodos de optimización numérica.\n",
                "\n",
                "**Covarianza**\n",
                "\n",
                "La covarianza es una medida de cuánto varían juntas dos variables aleatorias. Si dos variables son independientes, su covarianza es 0. Sin embargo, una covarianza de 0 no implica que las variables sean independientes."
            ]
        },
        {
            "cell_type": "markdown",
            "id": "311a255f",
            "metadata": {},
            "source": [
                "```py\n",
                "# Código para obtener la covarianza entre dos variables.\n",
                "\n",
                "df[['Feature1', 'Feature2']].cov()\n",
                "\n",
                "# Correlación entre dos distribuciones normales utilizando la correlación de Pearson.\n",
                "\n",
                "df[['Feature1', 'Feature2']].corr(method='pearson')\n",
                "```"
            ]
        },
        {
            "cell_type": "markdown",
            "id": "047e948e",
            "metadata": {},
            "source": [
                "**Pruebas de significación**\n"
            ]
        },
        {
            "cell_type": "markdown",
            "id": "9c0bb422",
            "metadata": {},
            "source": [
                "-Para hacer inferencias sobre la habilidad de un modelo en comparación con la habilidad de otro modelo, debemos usar herramientas como las pruebas de significación estadística.\n",
                "\n",
                "-Estas herramientas estiman la probabilidad de que las dos muestras de puntajes de habilidades del modelo se extraigan de la misma o diferente distribución subyacente desconocida de puntajes de habilidades del modelo.\n",
                "\n",
                "-Si parece que las muestras se extrajeron de la misma población, entonces no se asume ninguna diferencia entre la habilidad de los modelos y las diferencias reales se deben al ruido estadístico.\n",
                "\n",
                "-La capacidad de hacer afirmaciones de inferencia como esta se debe al teorema del límite central, nuestro conocimiento de la distribución de Gaussian y la probabilidad de que las dos medias de muestra sean parte de la misma distribución de Gaussian de medias de muestra."
            ]
        },
        {
            "cell_type": "markdown",
            "id": "d5df91d1",
            "metadata": {},
            "source": [
                "**Intervalos de confianza**\n",
                "\n",
                "-Una vez que hemos entrenado un modelo final, es posible que deseemos hacer una inferencia sobre qué tan hábil se espera que sea el modelo en la práctica.\n",
                "\n",
                "-La presentación de esta incertidumbre se denomina intervalo de confianza.\n",
                "\n",
                "-Podemos desarrollar múltiples evaluaciones independientes (o casi independientes) de la precisión de un modelo para generar una población de estimaciones de habilidades candidatas.\n",
                "\n",
                "-La media de las estimaciones de esta habilidad será una estimación (con error) de la verdadera estimación subyacente de la habilidad del modelo en el problema.\n",
                "\n",
                "-Con el conocimiento de que la media de la muestra será parte de una distribución Gaussian del teorema del límite central. Podemos usar el conocimiento de la distribución de Gaussian para estimar la probabilidad de la media de la muestra en función del tamaño de la muestra y calcular un intervalo de confianza deseado alrededor de la habilidad del modelo."
            ]
        },
        {
            "cell_type": "markdown",
            "id": "f7b2e963",
            "metadata": {},
            "source": [
                "Fuente:\n",
                "\n",
                "https://www.kaggle.com/code/carlolepelaars/statistics-tutorial/notebook\n",
                "    \n",
                "https://byjus.com/maths/level-of-significance/\n",
                "\n",
                "https://byjus.com/maths/sampling-methods/\n",
                "\n",
                "https://researchbasics.education.uconn.edu/anova_regression_and_chi-square/#\n",
                "\n",
                "https://cheatography.com/mmmmy/cheat-sheets/hypothesis-testing-cheatsheet/\n",
                "\n",
                "https://towardsdatascience.com/hypothesis-testing-in-machine-learning-using-python-a0dc89e169ce\n",
                "\n",
                "https://github.com/yug95/MachineLearning\n"
            ]
        }
    ],
    "metadata": {
        "interpreter": {
            "hash": "9248718ffe6ce6938b217e69dbcc175ea21f4c6b28a317e96c05334edae734bb"
        },
        "kernelspec": {
            "display_name": "Python 3 (ipykernel)",
            "language": "python",
            "name": "python3"
        },
        "language_info": {
            "codemirror_mode": {
                "name": "ipython",
                "version": 3
            },
            "file_extension": ".py",
            "mimetype": "text/x-python",
            "name": "python",
            "nbconvert_exporter": "python",
            "pygments_lexer": "ipython3",
            "version": "3.10.4"
        }
    },
    "nbformat": 4,
    "nbformat_minor": 5
}
